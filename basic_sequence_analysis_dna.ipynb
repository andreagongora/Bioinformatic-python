{
 "cells": [
  {
   "cell_type": "markdown",
   "id": "6e344f38",
   "metadata": {},
   "source": [
    "## Basic sequence analysis DNA"
   ]
  },
  {
   "cell_type": "markdown",
   "id": "245ec23c",
   "metadata": {},
   "source": [
    "#### Config Biopython"
   ]
  },
  {
   "cell_type": "code",
   "execution_count": 38,
   "id": "b6aef6b5",
   "metadata": {},
   "outputs": [],
   "source": [
    "from Bio import Entrez, Seq, SeqIO\n",
    "Entrez.email = \"coral.coralbrillante.brillante@gmail.com\"\n",
    "hdl = Entrez.efetch(db='nucleotide', id=['NM_002299'], rettype='fasta')"
   ]
  },
  {
   "cell_type": "code",
   "execution_count": 39,
   "id": "4887631c",
   "metadata": {},
   "outputs": [],
   "source": [
    "# Lacatasa gene\n",
    "seq = SeqIO.read(hdl, 'fasta')"
   ]
  },
  {
   "cell_type": "code",
   "execution_count": 40,
   "id": "a8831cfe",
   "metadata": {},
   "outputs": [],
   "source": [
    "# Saving our sequence\n",
    "\n",
    "from Bio import SeqIO\n",
    "w_hdl = open('example.fasta', 'w')\n",
    "w_seq = seq[11:5795]\n",
    "SeqIO.write([w_seq], w_hdl, 'fasta')\n",
    "w_hdl.close()"
   ]
  },
  {
   "cell_type": "markdown",
   "id": "98e7c334",
   "metadata": {},
   "source": [
    "#### note\n",
    "<p>SeqIO.write: takes a list of sequence to write <br>\n",
    "   this function can write many sequence but could take a lot of memory,<br>\n",
    "   is usefull use an iterator or use the function several times.\n",
    "</p>"
   ]
  },
  {
   "cell_type": "code",
   "execution_count": 41,
   "id": "9fc6122f",
   "metadata": {},
   "outputs": [
    {
     "name": "stdout",
     "output_type": "stream",
     "text": [
      "NM_002299.4 Homo sapiens lactase (LCT), mRNA\n",
      "GAAAATGGAG\n"
     ]
    }
   ],
   "source": [
    "# Reading the sequence\n",
    "recs = SeqIO.parse('example.fasta', 'fasta')\n",
    "for rec in recs:\n",
    "    seq = rec.seq\n",
    "    print(rec.description)\n",
    "    print(seq[:10])"
   ]
  },
  {
   "cell_type": "code",
   "execution_count": 45,
   "id": "9e27b0af",
   "metadata": {},
   "outputs": [
    {
     "data": {
      "text/plain": [
       "Seq('GAAAAUGGAGCUGUCUUGGCAUGUAGUCUU')"
      ]
     },
     "execution_count": 45,
     "metadata": {},
     "output_type": "execute_result"
    }
   ],
   "source": [
    "rna = seq[:30].transcribe()\n",
    "rna"
   ]
  },
  {
   "cell_type": "code",
   "execution_count": 48,
   "id": "e5c0c483",
   "metadata": {},
   "outputs": [
    {
     "data": {
      "text/plain": [
       "Seq('ENGAVLACSL')"
      ]
     },
     "execution_count": 48,
     "metadata": {},
     "output_type": "execute_result"
    }
   ],
   "source": [
    "prot = seq[:30].translate()\n",
    "prot"
   ]
  },
  {
   "cell_type": "code",
   "execution_count": null,
   "id": "57fba01f",
   "metadata": {},
   "outputs": [],
   "source": []
  }
 ],
 "metadata": {
  "kernelspec": {
   "display_name": "Python 3",
   "language": "python",
   "name": "python3"
  },
  "language_info": {
   "codemirror_mode": {
    "name": "ipython",
    "version": 3
   },
   "file_extension": ".py",
   "mimetype": "text/x-python",
   "name": "python",
   "nbconvert_exporter": "python",
   "pygments_lexer": "ipython3",
   "version": "3.8.10"
  }
 },
 "nbformat": 4,
 "nbformat_minor": 5
}
